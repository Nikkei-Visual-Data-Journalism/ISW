{
 "cells": [
  {
   "cell_type": "code",
   "execution_count": 1,
   "id": "a2b232f6-aae2-4b19-9280-46ac3a4f44a1",
   "metadata": {},
   "outputs": [],
   "source": [
    "import json\n",
    "import pandas as pd"
   ]
  },
  {
   "cell_type": "code",
   "execution_count": 2,
   "id": "28bb8992-8b79-4730-82e7-93ecd35f4f17",
   "metadata": {},
   "outputs": [],
   "source": [
    "data = json.loads(open('ISW.geojson').read())"
   ]
  },
  {
   "cell_type": "code",
   "execution_count": 3,
   "id": "59aad729-689f-4ef9-975e-27b81de37cc7",
   "metadata": {},
   "outputs": [],
   "source": [
    "isw = pd.DataFrame(data['features'])\n",
    "isw = isw[['geometry', 'properties']]\n",
    "isw = isw.rename(columns={'properties': 'layer'})\n",
    "isw.layer = isw.layer.apply(lambda x: x['layer'])"
   ]
  },
  {
   "cell_type": "code",
   "execution_count": 20,
   "id": "06384084-98b3-4146-be9c-3d6f6d8fb4a4",
   "metadata": {},
   "outputs": [],
   "source": [
    "# Flourish用に書式を変更\n",
    "isw.geometry = isw.geometry.apply(lambda x: str(x).replace(\"'\", '\"'))\n",
    "isw.geometry = isw.geometry.apply(lambda x: '' if x=='None' else '')"
   ]
  },
  {
   "cell_type": "code",
   "execution_count": 21,
   "id": "dda0f8b8-a643-469a-8908-7d34578477da",
   "metadata": {},
   "outputs": [
    {
     "data": {
      "text/html": [
       "<div>\n",
       "<style scoped>\n",
       "    .dataframe tbody tr th:only-of-type {\n",
       "        vertical-align: middle;\n",
       "    }\n",
       "\n",
       "    .dataframe tbody tr th {\n",
       "        vertical-align: top;\n",
       "    }\n",
       "\n",
       "    .dataframe thead th {\n",
       "        text-align: right;\n",
       "    }\n",
       "</style>\n",
       "<table border=\"1\" class=\"dataframe\">\n",
       "  <thead>\n",
       "    <tr style=\"text-align: right;\">\n",
       "      <th></th>\n",
       "      <th>geometry</th>\n",
       "      <th>layer</th>\n",
       "    </tr>\n",
       "  </thead>\n",
       "  <tbody>\n",
       "    <tr>\n",
       "      <th>0</th>\n",
       "      <td>{\"type\": \"MultiPolygon\", \"coordinates\": [[[[32...</td>\n",
       "      <td>ウクライナ</td>\n",
       "    </tr>\n",
       "    <tr>\n",
       "      <th>1</th>\n",
       "      <td>{\"type\": \"Polygon\", \"coordinates\": [[[32.53773...</td>\n",
       "      <td>ロシア軍支配エリア</td>\n",
       "    </tr>\n",
       "    <tr>\n",
       "      <th>2</th>\n",
       "      <td>{\"type\": \"MultiPolygon\", \"coordinates\": [[[[31...</td>\n",
       "      <td>ロシア軍支配エリア</td>\n",
       "    </tr>\n",
       "    <tr>\n",
       "      <th>3</th>\n",
       "      <td>{\"type\": \"Polygon\", \"coordinates\": [[[36.55341...</td>\n",
       "      <td>ロシア軍支配エリア</td>\n",
       "    </tr>\n",
       "    <tr>\n",
       "      <th>4</th>\n",
       "      <td>{\"type\": \"Polygon\", \"coordinates\": [[[36.52298...</td>\n",
       "      <td>ロシア軍支配エリア</td>\n",
       "    </tr>\n",
       "  </tbody>\n",
       "</table>\n",
       "</div>"
      ],
      "text/plain": [
       "                                            geometry      layer\n",
       "0  {\"type\": \"MultiPolygon\", \"coordinates\": [[[[32...      ウクライナ\n",
       "1  {\"type\": \"Polygon\", \"coordinates\": [[[32.53773...  ロシア軍支配エリア\n",
       "2  {\"type\": \"MultiPolygon\", \"coordinates\": [[[[31...  ロシア軍支配エリア\n",
       "3  {\"type\": \"Polygon\", \"coordinates\": [[[36.55341...  ロシア軍支配エリア\n",
       "4  {\"type\": \"Polygon\", \"coordinates\": [[[36.52298...  ロシア軍支配エリア"
      ]
     },
     "execution_count": 21,
     "metadata": {},
     "output_type": "execute_result"
    }
   ],
   "source": [
    "isw.head()"
   ]
  },
  {
   "cell_type": "code",
   "execution_count": 25,
   "id": "49b3b1c5-2bfc-47d9-b5f7-bf0e6a36cad9",
   "metadata": {},
   "outputs": [
    {
     "data": {
      "text/html": [
       "<div>\n",
       "<style scoped>\n",
       "    .dataframe tbody tr th:only-of-type {\n",
       "        vertical-align: middle;\n",
       "    }\n",
       "\n",
       "    .dataframe tbody tr th {\n",
       "        vertical-align: top;\n",
       "    }\n",
       "\n",
       "    .dataframe thead th {\n",
       "        text-align: right;\n",
       "    }\n",
       "</style>\n",
       "<table border=\"1\" class=\"dataframe\">\n",
       "  <thead>\n",
       "    <tr style=\"text-align: right;\">\n",
       "      <th></th>\n",
       "      <th>geometry</th>\n",
       "      <th>layer</th>\n",
       "    </tr>\n",
       "  </thead>\n",
       "  <tbody>\n",
       "    <tr>\n",
       "      <th>57</th>\n",
       "      <td>None</td>\n",
       "      <td>ロシア軍侵攻エリア</td>\n",
       "    </tr>\n",
       "    <tr>\n",
       "      <th>107</th>\n",
       "      <td>None</td>\n",
       "      <td>ロシア軍侵攻エリア</td>\n",
       "    </tr>\n",
       "    <tr>\n",
       "      <th>108</th>\n",
       "      <td>None</td>\n",
       "      <td>ロシア軍侵攻エリア</td>\n",
       "    </tr>\n",
       "    <tr>\n",
       "      <th>109</th>\n",
       "      <td>None</td>\n",
       "      <td>ロシア軍侵攻エリア</td>\n",
       "    </tr>\n",
       "    <tr>\n",
       "      <th>110</th>\n",
       "      <td>None</td>\n",
       "      <td>ロシア軍侵攻エリア</td>\n",
       "    </tr>\n",
       "  </tbody>\n",
       "</table>\n",
       "</div>"
      ],
      "text/plain": [
       "    geometry      layer\n",
       "57      None  ロシア軍侵攻エリア\n",
       "107     None  ロシア軍侵攻エリア\n",
       "108     None  ロシア軍侵攻エリア\n",
       "109     None  ロシア軍侵攻エリア\n",
       "110     None  ロシア軍侵攻エリア"
      ]
     },
     "execution_count": 25,
     "metadata": {},
     "output_type": "execute_result"
    }
   ],
   "source": [
    "isw[isw.geometry=='None']"
   ]
  },
  {
   "cell_type": "code",
   "execution_count": 22,
   "id": "381044f3-fadd-4349-ae65-68150ffd03b0",
   "metadata": {},
   "outputs": [],
   "source": [
    "isw.to_csv('flourish/UkraineLatestWarSituation.csv', encoding='utf_8_sig', index=False)"
   ]
  },
  {
   "cell_type": "code",
   "execution_count": 6,
   "id": "7f472468-dbf2-49c8-815a-caa9d851903d",
   "metadata": {},
   "outputs": [],
   "source": [
    "# TEST"
   ]
  },
  {
   "cell_type": "code",
   "execution_count": 8,
   "id": "ee9e9e3f-c597-436a-a7b1-85e3265860bf",
   "metadata": {},
   "outputs": [],
   "source": [
    "test = isw.iloc[[0]].copy()"
   ]
  },
  {
   "cell_type": "code",
   "execution_count": 9,
   "id": "f3467cb3-b799-422f-a98f-18b75859a22f",
   "metadata": {},
   "outputs": [
    {
     "data": {
      "text/html": [
       "<div>\n",
       "<style scoped>\n",
       "    .dataframe tbody tr th:only-of-type {\n",
       "        vertical-align: middle;\n",
       "    }\n",
       "\n",
       "    .dataframe tbody tr th {\n",
       "        vertical-align: top;\n",
       "    }\n",
       "\n",
       "    .dataframe thead th {\n",
       "        text-align: right;\n",
       "    }\n",
       "</style>\n",
       "<table border=\"1\" class=\"dataframe\">\n",
       "  <thead>\n",
       "    <tr style=\"text-align: right;\">\n",
       "      <th></th>\n",
       "      <th>geometry</th>\n",
       "      <th>layer</th>\n",
       "    </tr>\n",
       "  </thead>\n",
       "  <tbody>\n",
       "    <tr>\n",
       "      <th>0</th>\n",
       "      <td>{'type': 'MultiPolygon', 'coordinates': [[[[32...</td>\n",
       "      <td>ウクライナ</td>\n",
       "    </tr>\n",
       "  </tbody>\n",
       "</table>\n",
       "</div>"
      ],
      "text/plain": [
       "                                            geometry  layer\n",
       "0  {'type': 'MultiPolygon', 'coordinates': [[[[32...  ウクライナ"
      ]
     },
     "execution_count": 9,
     "metadata": {},
     "output_type": "execute_result"
    }
   ],
   "source": [
    "test"
   ]
  },
  {
   "cell_type": "code",
   "execution_count": 10,
   "id": "1079de86-0600-4c80-ae43-6bd09254bab9",
   "metadata": {},
   "outputs": [],
   "source": [
    "test.to_csv('flourish/UkraineLatestWarSituation.csv', encoding='utf_8_sig', index=False)"
   ]
  },
  {
   "cell_type": "code",
   "execution_count": null,
   "id": "d7d587f6-ac18-4f5e-a22d-95bbc41438b4",
   "metadata": {},
   "outputs": [],
   "source": []
  }
 ],
 "metadata": {
  "kernelspec": {
   "display_name": "Python 3 (ipykernel)",
   "language": "python",
   "name": "python3"
  },
  "language_info": {
   "codemirror_mode": {
    "name": "ipython",
    "version": 3
   },
   "file_extension": ".py",
   "mimetype": "text/x-python",
   "name": "python",
   "nbconvert_exporter": "python",
   "pygments_lexer": "ipython3",
   "version": "3.7.11"
  }
 },
 "nbformat": 4,
 "nbformat_minor": 5
}
